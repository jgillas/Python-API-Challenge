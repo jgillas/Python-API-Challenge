{
 "cells": [
  {
   "cell_type": "markdown",
   "metadata": {},
   "source": [
    "# WeatherPy\n",
    "\n",
    "---\n",
    "\n",
    "## Starter Code to Generate Random Geographic Coordinates and a List of Cities"
   ]
  },
  {
   "cell_type": "code",
   "execution_count": 1,
   "metadata": {
    "scrolled": true
   },
   "outputs": [],
   "source": [
    "# Dependencies and Setup\n",
    "import matplotlib.pyplot as plt\n",
    "import pandas as pd\n",
    "import numpy as np\n",
    "import requests\n",
    "import time\n",
    "from scipy.stats import linregress\n",
    "\n",
    "# Impor the OpenWeatherMap API key\n",
    "from api_keys import weather_api_key\n",
    "\n",
    "# Import citipy to determine the cities based on latitude and longitude\n",
    "from citipy import citipy"
   ]
  },
  {
   "cell_type": "markdown",
   "metadata": {},
   "source": [
    "### Generate the Cities List by Using the `citipy` Library"
   ]
  },
  {
   "cell_type": "code",
   "execution_count": 2,
   "metadata": {},
   "outputs": [
    {
     "name": "stdout",
     "output_type": "stream",
     "text": [
      "Number of cities in the list: 606\n"
     ]
    }
   ],
   "source": [
    "# Empty list for holding the latitude and longitude combinations\n",
    "lat_lngs = []\n",
    "\n",
    "# Empty list for holding the cities names\n",
    "cities = []\n",
    "\n",
    "# Range of latitudes and longitudes\n",
    "lat_range = (-90, 90)\n",
    "lng_range = (-180, 180)\n",
    "\n",
    "# Create a set of random lat and lng combinations\n",
    "lats = np.random.uniform(lat_range[0], lat_range[1], size=1500)\n",
    "lngs = np.random.uniform(lng_range[0], lng_range[1], size=1500)\n",
    "lat_lngs = zip(lats, lngs)\n",
    "\n",
    "# Identify nearest city for each lat, lng combination\n",
    "for lat_lng in lat_lngs:\n",
    "    city = citipy.nearest_city(lat_lng[0], lat_lng[1]).city_name\n",
    "    \n",
    "    # If the city is unique, then add it to a our cities list\n",
    "    if city not in cities:\n",
    "        cities.append(city)\n",
    "\n",
    "# Print the city count to confirm sufficient count\n",
    "print(f\"Number of cities in the list: {len(cities)}\")"
   ]
  },
  {
   "cell_type": "markdown",
   "metadata": {},
   "source": [
    "---"
   ]
  },
  {
   "cell_type": "markdown",
   "metadata": {},
   "source": [
    "## Requirement 1: Create Plots to Showcase the Relationship Between Weather Variables and Latitude\n",
    "\n",
    "### Use the OpenWeatherMap API to retrieve weather data from the cities list generated in the started code"
   ]
  },
  {
   "cell_type": "code",
   "execution_count": 3,
   "metadata": {},
   "outputs": [
    {
     "name": "stdout",
     "output_type": "stream",
     "text": [
      "Beginning Data Retrieval     \n",
      "-----------------------------\n",
      "Processing Record 1 of Set 1 | arraial do cabo\n",
      "Processing Record 2 of Set 1 | praia\n",
      "Processing Record 3 of Set 1 | butaritari\n",
      "Processing Record 4 of Set 1 | bambous virieux\n",
      "Processing Record 5 of Set 1 | taolanaro\n",
      "City not found. Skipping...\n",
      "Processing Record 6 of Set 1 | aras\n",
      "Processing Record 7 of Set 1 | tsihombe\n",
      "City not found. Skipping...\n",
      "Processing Record 8 of Set 1 | kapaa\n",
      "Processing Record 9 of Set 1 | kruisfontein\n",
      "Processing Record 10 of Set 1 | cravo norte\n",
      "Processing Record 11 of Set 1 | socastee\n",
      "Processing Record 12 of Set 1 | punta arenas\n",
      "Processing Record 13 of Set 1 | fethiye\n",
      "Processing Record 14 of Set 1 | skiros\n",
      "City not found. Skipping...\n",
      "Processing Record 15 of Set 1 | hobart\n",
      "Processing Record 16 of Set 1 | albany\n",
      "Processing Record 17 of Set 1 | rikitea\n",
      "Processing Record 18 of Set 1 | makakilo city\n",
      "Processing Record 19 of Set 1 | bluff\n",
      "Processing Record 20 of Set 1 | avarua\n",
      "Processing Record 21 of Set 1 | bredasdorp\n",
      "Processing Record 22 of Set 1 | pangnirtung\n",
      "Processing Record 23 of Set 1 | vastervik\n",
      "City not found. Skipping...\n",
      "Processing Record 24 of Set 1 | yenagoa\n",
      "Processing Record 25 of Set 1 | saleaula\n",
      "City not found. Skipping...\n",
      "Processing Record 26 of Set 1 | busselton\n",
      "Processing Record 27 of Set 1 | kiunga\n",
      "Processing Record 28 of Set 1 | los llanos de aridane\n",
      "Processing Record 29 of Set 1 | puerto ayora\n",
      "Processing Record 30 of Set 1 | ushuaia\n",
      "Processing Record 31 of Set 1 | cape town\n",
      "Processing Record 32 of Set 1 | vaini\n",
      "Processing Record 33 of Set 1 | sobolevo\n",
      "Processing Record 34 of Set 1 | new norfolk\n",
      "Processing Record 35 of Set 1 | williston\n",
      "Processing Record 36 of Set 1 | qaanaaq\n",
      "Processing Record 37 of Set 1 | clyde river\n",
      "Processing Record 38 of Set 1 | stantsiya gorchakovo\n",
      "City not found. Skipping...\n",
      "Processing Record 39 of Set 1 | belushya guba\n",
      "City not found. Skipping...\n",
      "Processing Record 40 of Set 1 | hilo\n",
      "Processing Record 41 of Set 1 | samusu\n",
      "City not found. Skipping...\n",
      "Processing Record 42 of Set 1 | santa cruz cabralia\n",
      "Processing Record 43 of Set 1 | barrow\n",
      "Processing Record 44 of Set 1 | yulara\n",
      "Processing Record 45 of Set 1 | broome\n",
      "Processing Record 46 of Set 1 | saint-philippe\n",
      "Processing Record 47 of Set 1 | dikson\n",
      "Processing Record 48 of Set 1 | torbay\n",
      "Processing Record 49 of Set 1 | narsaq\n",
      "Processing Record 50 of Set 1 | tabou\n",
      "Processing Record 0 of Set 2 | bowen\n",
      "Processing Record 1 of Set 2 | khani\n",
      "Processing Record 2 of Set 2 | tigil\n",
      "Processing Record 3 of Set 2 | jamestown\n",
      "Processing Record 4 of Set 2 | iqaluit\n",
      "Processing Record 5 of Set 2 | yumen\n",
      "Processing Record 6 of Set 2 | saint-pierre\n",
      "Processing Record 7 of Set 2 | severo-kurilsk\n",
      "Processing Record 8 of Set 2 | luba\n",
      "Processing Record 9 of Set 2 | quesnel\n",
      "Processing Record 10 of Set 2 | ribeira grande\n",
      "Processing Record 11 of Set 2 | kahului\n",
      "Processing Record 12 of Set 2 | hermanus\n",
      "Processing Record 13 of Set 2 | hasaki\n",
      "Processing Record 14 of Set 2 | airai\n",
      "Processing Record 15 of Set 2 | tsovinar\n",
      "Processing Record 16 of Set 2 | rawson\n",
      "Processing Record 17 of Set 2 | illoqqortoormiut\n",
      "City not found. Skipping...\n",
      "Processing Record 18 of Set 2 | fort wellington\n",
      "Processing Record 19 of Set 2 | palabuhanratu\n",
      "City not found. Skipping...\n",
      "Processing Record 20 of Set 2 | nikolskoye\n",
      "Processing Record 21 of Set 2 | porto walter\n",
      "Processing Record 22 of Set 2 | souillac\n",
      "Processing Record 23 of Set 2 | ponta do sol\n",
      "Processing Record 24 of Set 2 | carnarvon\n",
      "Processing Record 25 of Set 2 | barra do garcas\n",
      "Processing Record 26 of Set 2 | grindavik\n",
      "Processing Record 27 of Set 2 | port moresby\n",
      "Processing Record 28 of Set 2 | solsvik\n",
      "City not found. Skipping...\n",
      "Processing Record 29 of Set 2 | port elizabeth\n",
      "Processing Record 30 of Set 2 | atuona\n",
      "Processing Record 31 of Set 2 | katangli\n",
      "Processing Record 32 of Set 2 | sentyabrskiy\n",
      "City not found. Skipping...\n",
      "Processing Record 33 of Set 2 | georgetown\n",
      "Processing Record 34 of Set 2 | hithadhoo\n",
      "Processing Record 35 of Set 2 | port alfred\n",
      "Processing Record 36 of Set 2 | sydney\n",
      "Processing Record 37 of Set 2 | vaitupu\n",
      "City not found. Skipping...\n",
      "Processing Record 38 of Set 2 | longyearbyen\n",
      "Processing Record 39 of Set 2 | coruripe\n",
      "Processing Record 40 of Set 2 | dinguiraye\n",
      "Processing Record 41 of Set 2 | ramsi\n",
      "Processing Record 42 of Set 2 | hovd\n",
      "Processing Record 43 of Set 2 | kodiak\n",
      "Processing Record 44 of Set 2 | east london\n",
      "Processing Record 45 of Set 2 | mataura\n",
      "Processing Record 46 of Set 2 | juchitan\n",
      "City not found. Skipping...\n",
      "Processing Record 47 of Set 2 | beringovskiy\n",
      "Processing Record 48 of Set 2 | ipixuna\n",
      "Processing Record 49 of Set 2 | salalah\n",
      "Processing Record 0 of Set 3 | rognan\n",
      "Processing Record 1 of Set 3 | calvinia\n",
      "Processing Record 2 of Set 3 | alofi\n",
      "Processing Record 3 of Set 3 | sitka\n",
      "Processing Record 4 of Set 3 | pangoa\n",
      "Processing Record 5 of Set 3 | cidreira\n",
      "Processing Record 6 of Set 3 | yertsevo\n",
      "Processing Record 7 of Set 3 | nueve de julio\n",
      "Processing Record 8 of Set 3 | tarboro\n",
      "Processing Record 9 of Set 3 | tuktoyaktuk\n",
      "Processing Record 10 of Set 3 | sept-iles\n",
      "Processing Record 11 of Set 3 | labuan\n",
      "Processing Record 12 of Set 3 | shaki\n",
      "Processing Record 13 of Set 3 | berlevag\n",
      "Processing Record 14 of Set 3 | tomari\n",
      "Processing Record 15 of Set 3 | nome\n",
      "Processing Record 16 of Set 3 | grand river south east\n",
      "City not found. Skipping...\n",
      "Processing Record 17 of Set 3 | santa cruz\n",
      "Processing Record 18 of Set 3 | yellowknife\n",
      "Processing Record 19 of Set 3 | kaitangata\n",
      "Processing Record 20 of Set 3 | zaterechnyy\n",
      "Processing Record 21 of Set 3 | karratha\n",
      "Processing Record 22 of Set 3 | teguise\n",
      "Processing Record 23 of Set 3 | bowmore\n",
      "Processing Record 24 of Set 3 | wanning\n",
      "Processing Record 25 of Set 3 | karpathos\n",
      "Processing Record 26 of Set 3 | kajaani\n",
      "Processing Record 27 of Set 3 | the valley\n",
      "Processing Record 28 of Set 3 | san lorenzo\n",
      "Processing Record 29 of Set 3 | aykhal\n",
      "Processing Record 30 of Set 3 | maputo\n",
      "Processing Record 31 of Set 3 | hearst\n",
      "Processing Record 32 of Set 3 | richard toll\n",
      "City not found. Skipping...\n",
      "Processing Record 33 of Set 3 | victoria\n",
      "Processing Record 34 of Set 3 | gaurnadi\n",
      "Processing Record 35 of Set 3 | jinka\n",
      "Processing Record 36 of Set 3 | shwebo\n",
      "Processing Record 37 of Set 3 | mrirt\n",
      "City not found. Skipping...\n",
      "Processing Record 38 of Set 3 | general pico\n",
      "Processing Record 39 of Set 3 | petropavlovsk-kamchatskiy\n",
      "Processing Record 40 of Set 3 | pevek\n",
      "Processing Record 41 of Set 3 | nouakchott\n",
      "Processing Record 42 of Set 3 | coro\n",
      "Processing Record 43 of Set 3 | grasse\n",
      "Processing Record 44 of Set 3 | rocha\n",
      "Processing Record 45 of Set 3 | mar del plata\n",
      "Processing Record 46 of Set 3 | sinnamary\n",
      "Processing Record 47 of Set 3 | rivera\n",
      "Processing Record 48 of Set 3 | bhadasar\n",
      "Processing Record 49 of Set 3 | port hardy\n",
      "Processing Record 0 of Set 4 | provideniya\n",
      "Processing Record 1 of Set 4 | bulawayo\n",
      "Processing Record 2 of Set 4 | biloela\n",
      "Processing Record 3 of Set 4 | chom bung\n",
      "City not found. Skipping...\n",
      "Processing Record 4 of Set 4 | mahebourg\n",
      "Processing Record 5 of Set 4 | mehamn\n",
      "Processing Record 6 of Set 4 | ambon\n",
      "Processing Record 7 of Set 4 | hambantota\n",
      "Processing Record 8 of Set 4 | lebu\n",
      "Processing Record 9 of Set 4 | goderich\n",
      "Processing Record 10 of Set 4 | ballstad\n",
      "City not found. Skipping...\n",
      "Processing Record 11 of Set 4 | thompson\n",
      "Processing Record 12 of Set 4 | klaksvik\n",
      "Processing Record 13 of Set 4 | hit\n",
      "Processing Record 14 of Set 4 | havre-saint-pierre\n",
      "Processing Record 15 of Set 4 | padang\n",
      "Processing Record 16 of Set 4 | camalu\n",
      "Processing Record 17 of Set 4 | leningradskiy\n",
      "Processing Record 18 of Set 4 | kadykchan\n",
      "City not found. Skipping...\n",
      "Processing Record 19 of Set 4 | barentsburg\n",
      "City not found. Skipping...\n",
      "Processing Record 20 of Set 4 | reyes\n",
      "Processing Record 21 of Set 4 | matanzas\n",
      "Processing Record 22 of Set 4 | kavieng\n",
      "Processing Record 23 of Set 4 | henties bay\n",
      "Processing Record 24 of Set 4 | kenora\n",
      "Processing Record 25 of Set 4 | hami\n",
      "Processing Record 26 of Set 4 | mys shmidta\n",
      "City not found. Skipping...\n",
      "Processing Record 27 of Set 4 | moa\n",
      "Processing Record 28 of Set 4 | novosokolniki\n",
      "Processing Record 29 of Set 4 | bilma\n",
      "Processing Record 30 of Set 4 | kenai\n",
      "Processing Record 31 of Set 4 | severnoye\n",
      "Processing Record 32 of Set 4 | kawana waters\n",
      "City not found. Skipping...\n",
      "Processing Record 33 of Set 4 | constitucion\n"
     ]
    },
    {
     "name": "stdout",
     "output_type": "stream",
     "text": [
      "Processing Record 34 of Set 4 | tautira\n",
      "Processing Record 35 of Set 4 | cockburn town\n",
      "Processing Record 36 of Set 4 | bere\n",
      "Processing Record 37 of Set 4 | lorengau\n",
      "Processing Record 38 of Set 4 | lolua\n",
      "City not found. Skipping...\n",
      "Processing Record 39 of Set 4 | celestun\n",
      "Processing Record 40 of Set 4 | amderma\n",
      "City not found. Skipping...\n",
      "Processing Record 41 of Set 4 | manokwari\n",
      "Processing Record 42 of Set 4 | hihifo\n",
      "City not found. Skipping...\n",
      "Processing Record 43 of Set 4 | saskylakh\n",
      "Processing Record 44 of Set 4 | lata\n",
      "Processing Record 45 of Set 4 | borshchiv\n",
      "Processing Record 46 of Set 4 | la palma\n",
      "Processing Record 47 of Set 4 | aklavik\n",
      "Processing Record 48 of Set 4 | filadelfia\n",
      "Processing Record 49 of Set 4 | barra patuca\n",
      "Processing Record 0 of Set 5 | palmer\n",
      "Processing Record 1 of Set 5 | mani\n",
      "Processing Record 2 of Set 5 | muzquiz\n",
      "City not found. Skipping...\n",
      "Processing Record 3 of Set 5 | ayia marina\n",
      "Processing Record 4 of Set 5 | moga\n",
      "Processing Record 5 of Set 5 | turukhansk\n",
      "Processing Record 6 of Set 5 | vila franca do campo\n",
      "Processing Record 7 of Set 5 | partapur\n",
      "Processing Record 8 of Set 5 | tukrah\n",
      "Processing Record 9 of Set 5 | vao\n",
      "Processing Record 10 of Set 5 | katsuura\n",
      "Processing Record 11 of Set 5 | fortuna\n",
      "Processing Record 12 of Set 5 | bol\n",
      "Processing Record 13 of Set 5 | tutoia\n",
      "Processing Record 14 of Set 5 | isangel\n",
      "Processing Record 15 of Set 5 | dunmore town\n",
      "Processing Record 16 of Set 5 | chokurdakh\n",
      "Processing Record 17 of Set 5 | jalu\n",
      "Processing Record 18 of Set 5 | yar-sale\n",
      "Processing Record 19 of Set 5 | changping\n",
      "Processing Record 20 of Set 5 | harper\n",
      "Processing Record 21 of Set 5 | namatanai\n",
      "Processing Record 22 of Set 5 | sohag\n",
      "Processing Record 23 of Set 5 | san policarpo\n",
      "Processing Record 24 of Set 5 | longview\n",
      "Processing Record 25 of Set 5 | geraldton\n",
      "Processing Record 26 of Set 5 | khatanga\n",
      "Processing Record 27 of Set 5 | altay\n",
      "Processing Record 28 of Set 5 | prince rupert\n",
      "Processing Record 29 of Set 5 | arkhara\n",
      "Processing Record 30 of Set 5 | kyaukse\n",
      "Processing Record 31 of Set 5 | porterville\n",
      "Processing Record 32 of Set 5 | upernavik\n",
      "Processing Record 33 of Set 5 | valparaiso\n",
      "Processing Record 34 of Set 5 | codrington\n",
      "Processing Record 35 of Set 5 | dauriya\n",
      "Processing Record 36 of Set 5 | zabaykalsk\n",
      "Processing Record 37 of Set 5 | dallas\n",
      "Processing Record 38 of Set 5 | halifax\n",
      "Processing Record 39 of Set 5 | mutis\n",
      "Processing Record 40 of Set 5 | san quintin\n",
      "Processing Record 41 of Set 5 | bukachacha\n",
      "Processing Record 42 of Set 5 | sorland\n",
      "Processing Record 43 of Set 5 | morondava\n",
      "Processing Record 44 of Set 5 | brindisi\n",
      "Processing Record 45 of Set 5 | virginia beach\n",
      "Processing Record 46 of Set 5 | eyrarbakki\n",
      "Processing Record 47 of Set 5 | mananjary\n",
      "Processing Record 48 of Set 5 | biltine\n",
      "Processing Record 49 of Set 5 | luderitz\n",
      "Processing Record 0 of Set 6 | barvinkove\n",
      "Processing Record 1 of Set 6 | pisco\n",
      "Processing Record 2 of Set 6 | tubruq\n",
      "City not found. Skipping...\n",
      "Processing Record 3 of Set 6 | tasiilaq\n",
      "Processing Record 4 of Set 6 | mayo\n",
      "Processing Record 5 of Set 6 | vostok\n",
      "Processing Record 6 of Set 6 | gravdal\n",
      "Processing Record 7 of Set 6 | ust-nera\n",
      "Processing Record 8 of Set 6 | nanortalik\n",
      "Processing Record 9 of Set 6 | bargal\n",
      "City not found. Skipping...\n",
      "Processing Record 10 of Set 6 | plettenberg bay\n",
      "Processing Record 11 of Set 6 | sioux lookout\n",
      "Processing Record 12 of Set 6 | port lincoln\n",
      "Processing Record 13 of Set 6 | samalaeulu\n",
      "City not found. Skipping...\n",
      "Processing Record 14 of Set 6 | abbeville\n",
      "Processing Record 15 of Set 6 | karaul\n",
      "City not found. Skipping...\n",
      "Processing Record 16 of Set 6 | virden\n",
      "Processing Record 17 of Set 6 | kavaratti\n",
      "Processing Record 18 of Set 6 | mount gambier\n",
      "Processing Record 19 of Set 6 | artigas\n",
      "Processing Record 20 of Set 6 | xai-xai\n",
      "Processing Record 21 of Set 6 | burnie\n",
      "Processing Record 22 of Set 6 | esperance\n",
      "Processing Record 23 of Set 6 | may pen\n",
      "Processing Record 24 of Set 6 | tual\n",
      "Processing Record 25 of Set 6 | komsomolskiy\n",
      "Processing Record 26 of Set 6 | castro\n",
      "Processing Record 27 of Set 6 | monroe\n",
      "Processing Record 28 of Set 6 | dekar\n",
      "Processing Record 29 of Set 6 | mocuba\n",
      "Processing Record 30 of Set 6 | ostrovnoy\n",
      "Processing Record 31 of Set 6 | hilton head island\n",
      "Processing Record 32 of Set 6 | san cristobal\n",
      "Processing Record 33 of Set 6 | margate\n",
      "Processing Record 34 of Set 6 | mandalgovi\n",
      "Processing Record 35 of Set 6 | mount isa\n",
      "Processing Record 36 of Set 6 | omboue\n",
      "Processing Record 37 of Set 6 | bom jesus\n",
      "Processing Record 38 of Set 6 | guerrero negro\n",
      "Processing Record 39 of Set 6 | portland\n",
      "Processing Record 40 of Set 6 | faanui\n",
      "Processing Record 41 of Set 6 | quatre cocos\n",
      "Processing Record 42 of Set 6 | springdale\n",
      "Processing Record 43 of Set 6 | erdemli\n",
      "Processing Record 44 of Set 6 | taoudenni\n",
      "Processing Record 45 of Set 6 | olinda\n",
      "Processing Record 46 of Set 6 | illora\n",
      "Processing Record 47 of Set 6 | cabra\n",
      "Processing Record 48 of Set 6 | labrea\n",
      "Processing Record 49 of Set 6 | zadar\n",
      "Processing Record 0 of Set 7 | laguna\n",
      "Processing Record 1 of Set 7 | yuncheng\n",
      "Processing Record 2 of Set 7 | szarvas\n",
      "Processing Record 3 of Set 7 | irricana\n",
      "Processing Record 4 of Set 7 | shahreza\n",
      "Processing Record 5 of Set 7 | doctor pedro p. pena\n",
      "City not found. Skipping...\n",
      "Processing Record 6 of Set 7 | nalut\n",
      "Processing Record 7 of Set 7 | saint-francois\n",
      "Processing Record 8 of Set 7 | bull savanna\n",
      "Processing Record 9 of Set 7 | cabo san lucas\n",
      "Processing Record 10 of Set 7 | donghai\n",
      "Processing Record 11 of Set 7 | bodden town\n",
      "Processing Record 12 of Set 7 | norman wells\n",
      "Processing Record 13 of Set 7 | chuy\n",
      "Processing Record 14 of Set 7 | upata\n",
      "Processing Record 15 of Set 7 | olafsvik\n",
      "Processing Record 16 of Set 7 | cap malheureux\n",
      "Processing Record 17 of Set 7 | jambi\n",
      "Processing Record 18 of Set 7 | big bend\n",
      "Processing Record 19 of Set 7 | ram das\n",
      "Processing Record 20 of Set 7 | hervey bay\n",
      "Processing Record 21 of Set 7 | kalabo\n",
      "Processing Record 22 of Set 7 | bayir\n",
      "Processing Record 23 of Set 7 | ilulissat\n",
      "Processing Record 24 of Set 7 | ulvik\n",
      "Processing Record 25 of Set 7 | lushunkou\n",
      "City not found. Skipping...\n",
      "Processing Record 26 of Set 7 | kushmurun\n",
      "Processing Record 27 of Set 7 | sao joao da barra\n",
      "Processing Record 28 of Set 7 | zhigansk\n",
      "Processing Record 29 of Set 7 | nara\n",
      "Processing Record 30 of Set 7 | kokopo\n",
      "Processing Record 31 of Set 7 | salinopolis\n",
      "Processing Record 32 of Set 7 | balao\n",
      "Processing Record 33 of Set 7 | huarmey\n",
      "Processing Record 34 of Set 7 | okuchi\n",
      "Processing Record 35 of Set 7 | saldanha\n",
      "Processing Record 36 of Set 7 | asfi\n",
      "Processing Record 37 of Set 7 | vrangel\n",
      "Processing Record 38 of Set 7 | jawhar\n",
      "Processing Record 39 of Set 7 | naze\n",
      "Processing Record 40 of Set 7 | yucca valley\n",
      "Processing Record 41 of Set 7 | ibara\n",
      "Processing Record 42 of Set 7 | umzimvubu\n",
      "City not found. Skipping...\n",
      "Processing Record 43 of Set 7 | pasil\n",
      "Processing Record 44 of Set 7 | kidal\n",
      "Processing Record 45 of Set 7 | chateau-thierry\n",
      "Processing Record 46 of Set 7 | sao jose da coroa grande\n",
      "Processing Record 47 of Set 7 | fare\n",
      "Processing Record 48 of Set 7 | karasjok\n",
      "Processing Record 49 of Set 7 | creel\n",
      "Processing Record 0 of Set 8 | hamilton\n",
      "Processing Record 1 of Set 8 | farah\n",
      "Processing Record 2 of Set 8 | stamsund\n",
      "City not found. Skipping...\n",
      "Processing Record 3 of Set 8 | nizhneyansk\n",
      "City not found. Skipping...\n",
      "Processing Record 4 of Set 8 | acapulco\n",
      "Processing Record 5 of Set 8 | ubinskoye\n",
      "Processing Record 6 of Set 8 | la rinconada\n",
      "Processing Record 7 of Set 8 | teguldet\n",
      "Processing Record 8 of Set 8 | cutervo\n",
      "Processing Record 9 of Set 8 | bathsheba\n",
      "Processing Record 10 of Set 8 | ouesso\n",
      "Processing Record 11 of Set 8 | youhao\n",
      "Processing Record 12 of Set 8 | burns lake\n",
      "Processing Record 13 of Set 8 | faya\n",
      "Processing Record 14 of Set 8 | punta alta\n",
      "Processing Record 15 of Set 8 | tiksi\n",
      "Processing Record 16 of Set 8 | bandarbeyla\n",
      "Processing Record 17 of Set 8 | joensuu\n",
      "Processing Record 18 of Set 8 | avera\n",
      "Processing Record 19 of Set 8 | hofn\n",
      "Processing Record 20 of Set 8 | nemuro\n",
      "Processing Record 21 of Set 8 | siuri\n",
      "Processing Record 22 of Set 8 | gorzow wielkopolski\n",
      "Processing Record 23 of Set 8 | tazovskiy\n",
      "Processing Record 24 of Set 8 | chapais\n"
     ]
    },
    {
     "name": "stdout",
     "output_type": "stream",
     "text": [
      "Processing Record 25 of Set 8 | boo\n",
      "Processing Record 26 of Set 8 | namibe\n",
      "Processing Record 27 of Set 8 | vanavara\n",
      "Processing Record 28 of Set 8 | honningsvag\n",
      "Processing Record 29 of Set 8 | mutsamudu\n",
      "City not found. Skipping...\n",
      "Processing Record 30 of Set 8 | sao filipe\n",
      "Processing Record 31 of Set 8 | aracaju\n",
      "Processing Record 32 of Set 8 | khonsar\n",
      "City not found. Skipping...\n",
      "Processing Record 33 of Set 8 | bosaso\n",
      "Processing Record 34 of Set 8 | mao\n",
      "Processing Record 35 of Set 8 | amloh\n",
      "Processing Record 36 of Set 8 | cherskiy\n",
      "Processing Record 37 of Set 8 | kerema\n",
      "Processing Record 38 of Set 8 | nabire\n",
      "Processing Record 39 of Set 8 | asau\n",
      "Processing Record 40 of Set 8 | gornji milanovac\n",
      "Processing Record 41 of Set 8 | canoinhas\n",
      "Processing Record 42 of Set 8 | awjilah\n",
      "Processing Record 43 of Set 8 | hailar\n",
      "Processing Record 44 of Set 8 | azul\n",
      "Processing Record 45 of Set 8 | puquio\n",
      "Processing Record 46 of Set 8 | igarka\n",
      "Processing Record 47 of Set 8 | imeni karla libknekhta\n",
      "Processing Record 48 of Set 8 | lucapa\n",
      "Processing Record 49 of Set 8 | poum\n",
      "Processing Record 0 of Set 9 | hay river\n",
      "Processing Record 1 of Set 9 | babstovo\n",
      "Processing Record 2 of Set 9 | katima mulilo\n",
      "Processing Record 3 of Set 9 | bolshiye klyuchishchi\n",
      "City not found. Skipping...\n",
      "Processing Record 4 of Set 9 | rumphi\n",
      "Processing Record 5 of Set 9 | urumqi\n",
      "Processing Record 6 of Set 9 | bengkulu\n",
      "Processing Record 7 of Set 9 | iberia\n",
      "Processing Record 8 of Set 9 | luzino\n",
      "Processing Record 9 of Set 9 | hobyo\n",
      "Processing Record 10 of Set 9 | ixtapa\n",
      "Processing Record 11 of Set 9 | ryotsu\n",
      "Processing Record 12 of Set 9 | dingle\n",
      "Processing Record 13 of Set 9 | sorvag\n",
      "City not found. Skipping...\n",
      "Processing Record 14 of Set 9 | kumluca\n",
      "Processing Record 15 of Set 9 | bontang\n",
      "Processing Record 16 of Set 9 | avenal\n",
      "Processing Record 17 of Set 9 | vestmannaeyjar\n",
      "Processing Record 18 of Set 9 | dwarka\n",
      "Processing Record 19 of Set 9 | labuhan\n",
      "Processing Record 20 of Set 9 | chandbali\n",
      "Processing Record 21 of Set 9 | lasa\n",
      "Processing Record 22 of Set 9 | batagay-alyta\n",
      "Processing Record 23 of Set 9 | irbit\n",
      "Processing Record 24 of Set 9 | verkhoyansk\n",
      "Processing Record 25 of Set 9 | bubaque\n",
      "Processing Record 26 of Set 9 | chulumani\n",
      "Processing Record 27 of Set 9 | peranamallur\n",
      "Processing Record 28 of Set 9 | basco\n",
      "Processing Record 29 of Set 9 | chintamani\n",
      "Processing Record 30 of Set 9 | mangla\n",
      "Processing Record 31 of Set 9 | toliary\n",
      "City not found. Skipping...\n",
      "Processing Record 32 of Set 9 | thinadhoo\n",
      "Processing Record 33 of Set 9 | maraa\n",
      "Processing Record 34 of Set 9 | makasar\n",
      "Processing Record 35 of Set 9 | el wasta\n",
      "City not found. Skipping...\n",
      "Processing Record 36 of Set 9 | gualeguaychu\n",
      "Processing Record 37 of Set 9 | corn island\n",
      "Processing Record 38 of Set 9 | ust-tsilma\n",
      "Processing Record 39 of Set 9 | nioro\n",
      "Processing Record 40 of Set 9 | tijuana\n",
      "Processing Record 41 of Set 9 | hornepayne\n",
      "Processing Record 42 of Set 9 | san patricio\n",
      "Processing Record 43 of Set 9 | marsabit\n",
      "Processing Record 44 of Set 9 | ketchikan\n",
      "Processing Record 45 of Set 9 | campoverde\n",
      "Processing Record 46 of Set 9 | ahipara\n",
      "Processing Record 47 of Set 9 | mullaitivu\n",
      "City not found. Skipping...\n",
      "Processing Record 48 of Set 9 | doba\n",
      "Processing Record 49 of Set 9 | san pedro\n",
      "Processing Record 0 of Set 10 | guerrero\n",
      "Processing Record 1 of Set 10 | port blair\n",
      "Processing Record 2 of Set 10 | ancud\n",
      "Processing Record 3 of Set 10 | bonavista\n",
      "Processing Record 4 of Set 10 | talah\n",
      "City not found. Skipping...\n",
      "Processing Record 5 of Set 10 | whitianga\n",
      "Processing Record 6 of Set 10 | plainview\n",
      "Processing Record 7 of Set 10 | ulagan\n",
      "Processing Record 8 of Set 10 | kjollefjord\n",
      "Processing Record 9 of Set 10 | tarabha\n",
      "Processing Record 10 of Set 10 | manitouwadge\n",
      "Processing Record 11 of Set 10 | antofagasta\n",
      "Processing Record 12 of Set 10 | khandagayty\n",
      "Processing Record 13 of Set 10 | andenes\n",
      "Processing Record 14 of Set 10 | tawnat\n",
      "City not found. Skipping...\n",
      "Processing Record 15 of Set 10 | eureka\n",
      "Processing Record 16 of Set 10 | bakel\n",
      "Processing Record 17 of Set 10 | guiratinga\n",
      "Processing Record 18 of Set 10 | navolato\n",
      "Processing Record 19 of Set 10 | dzerzhinskoye\n",
      "Processing Record 20 of Set 10 | edd\n",
      "Processing Record 21 of Set 10 | tabiauea\n",
      "City not found. Skipping...\n",
      "Processing Record 22 of Set 10 | khandyga\n",
      "Processing Record 23 of Set 10 | oktyabrskiy\n",
      "Processing Record 24 of Set 10 | oktyabrskoye\n",
      "Processing Record 25 of Set 10 | angoche\n",
      "Processing Record 26 of Set 10 | dongsheng\n",
      "Processing Record 27 of Set 10 | paradwip\n",
      "City not found. Skipping...\n",
      "Processing Record 28 of Set 10 | cedar city\n",
      "Processing Record 29 of Set 10 | ongole\n",
      "Processing Record 30 of Set 10 | vila velha\n",
      "Processing Record 31 of Set 10 | ouadda\n",
      "Processing Record 32 of Set 10 | plock\n",
      "Processing Record 33 of Set 10 | ciras\n",
      "City not found. Skipping...\n",
      "Processing Record 34 of Set 10 | guangyuan\n",
      "Processing Record 35 of Set 10 | bang saphan\n",
      "Processing Record 36 of Set 10 | bougouni\n",
      "Processing Record 37 of Set 10 | chicama\n",
      "Processing Record 38 of Set 10 | shimoda\n",
      "Processing Record 39 of Set 10 | khormuj\n",
      "City not found. Skipping...\n",
      "Processing Record 40 of Set 10 | ponnani\n",
      "Processing Record 41 of Set 10 | kaeo\n",
      "Processing Record 42 of Set 10 | amga\n",
      "Processing Record 43 of Set 10 | flinders\n",
      "Processing Record 44 of Set 10 | kamaishi\n",
      "Processing Record 45 of Set 10 | pyay\n",
      "Processing Record 46 of Set 10 | grand gaube\n",
      "Processing Record 47 of Set 10 | coihaique\n",
      "Processing Record 48 of Set 10 | krasnoselkup\n",
      "Processing Record 49 of Set 10 | gillette\n",
      "Processing Record 0 of Set 11 | lithakia\n",
      "Processing Record 1 of Set 11 | navabad\n",
      "City not found. Skipping...\n",
      "Processing Record 2 of Set 11 | san jose de guanipa\n",
      "Processing Record 3 of Set 11 | shevchenkove\n",
      "Processing Record 4 of Set 11 | attawapiskat\n",
      "City not found. Skipping...\n",
      "Processing Record 5 of Set 11 | mendi\n",
      "Processing Record 6 of Set 11 | samarai\n",
      "Processing Record 7 of Set 11 | wangdiphodrang\n",
      "City not found. Skipping...\n",
      "Processing Record 8 of Set 11 | smithers\n",
      "Processing Record 9 of Set 11 | wanaka\n",
      "Processing Record 10 of Set 11 | lovendegem\n",
      "Processing Record 11 of Set 11 | tilichiki\n",
      "Processing Record 12 of Set 11 | bay city\n",
      "Processing Record 13 of Set 11 | port keats\n",
      "Processing Record 14 of Set 11 | brooks\n",
      "Processing Record 15 of Set 11 | lagoa\n",
      "Processing Record 16 of Set 11 | marsassoum\n",
      "Processing Record 17 of Set 11 | srednekolymsk\n",
      "Processing Record 18 of Set 11 | saint george\n",
      "Processing Record 19 of Set 11 | aksu\n",
      "Processing Record 20 of Set 11 | cortez\n",
      "Processing Record 21 of Set 11 | aiquile\n",
      "Processing Record 22 of Set 11 | byron bay\n",
      "Processing Record 23 of Set 11 | comodoro rivadavia\n",
      "Processing Record 24 of Set 11 | urfa\n",
      "City not found. Skipping...\n",
      "Processing Record 25 of Set 11 | camargo\n",
      "Processing Record 26 of Set 11 | dalvik\n",
      "Processing Record 27 of Set 11 | chik\n",
      "Processing Record 28 of Set 11 | nagato\n",
      "Processing Record 29 of Set 11 | bad wurzach\n",
      "Processing Record 30 of Set 11 | lubumbashi\n",
      "Processing Record 31 of Set 11 | kuche\n",
      "City not found. Skipping...\n",
      "Processing Record 32 of Set 11 | xining\n",
      "Processing Record 33 of Set 11 | pimentel\n",
      "Processing Record 34 of Set 11 | morgan city\n",
      "Processing Record 35 of Set 11 | yanchukan\n",
      "City not found. Skipping...\n",
      "Processing Record 36 of Set 11 | brae\n",
      "Processing Record 37 of Set 11 | bethel\n",
      "Processing Record 38 of Set 11 | sabang\n",
      "Processing Record 39 of Set 11 | flagstaff\n",
      "Processing Record 40 of Set 11 | luena\n",
      "Processing Record 41 of Set 11 | papara\n",
      "Processing Record 42 of Set 11 | pochutla\n",
      "Processing Record 43 of Set 11 | port macquarie\n",
      "Processing Record 44 of Set 11 | monywa\n",
      "Processing Record 45 of Set 11 | kupang\n",
      "Processing Record 46 of Set 11 | bestobe\n",
      "Processing Record 47 of Set 11 | carballo\n",
      "Processing Record 48 of Set 11 | sakakah\n",
      "Processing Record 49 of Set 11 | ngukurr\n",
      "City not found. Skipping...\n",
      "Processing Record 0 of Set 12 | serenje\n",
      "Processing Record 1 of Set 12 | malakal\n",
      "Processing Record 2 of Set 12 | samana\n",
      "Processing Record 3 of Set 12 | caluquembe\n",
      "Processing Record 4 of Set 12 | giresun\n",
      "Processing Record 5 of Set 12 | luanda\n",
      "Processing Record 6 of Set 12 | ostersund\n",
      "Processing Record 7 of Set 12 | haines junction\n",
      "Processing Record 8 of Set 12 | juneau\n",
      "Processing Record 9 of Set 12 | port-gentil\n",
      "Processing Record 10 of Set 12 | richards bay\n"
     ]
    },
    {
     "name": "stdout",
     "output_type": "stream",
     "text": [
      "Processing Record 11 of Set 12 | oblivskaya\n",
      "Processing Record 12 of Set 12 | dosso\n",
      "Processing Record 13 of Set 12 | haibowan\n",
      "City not found. Skipping...\n",
      "Processing Record 14 of Set 12 | kostomuksha\n",
      "Processing Record 15 of Set 12 | kodinsk\n",
      "Processing Record 16 of Set 12 | baruun-urt\n",
      "Processing Record 17 of Set 12 | ossora\n",
      "Processing Record 18 of Set 12 | gisborne\n",
      "Processing Record 19 of Set 12 | talnakh\n",
      "Processing Record 20 of Set 12 | pelotas\n",
      "Processing Record 21 of Set 12 | jadu\n",
      "Processing Record 22 of Set 12 | alice springs\n",
      "Processing Record 23 of Set 12 | biak\n",
      "Processing Record 24 of Set 12 | sabaudia\n",
      "Processing Record 25 of Set 12 | egvekinot\n",
      "Processing Record 26 of Set 12 | nandigama\n",
      "Processing Record 27 of Set 12 | nuevo progreso\n",
      "Processing Record 28 of Set 12 | huamuxtitlan\n",
      "Processing Record 29 of Set 12 | sistranda\n",
      "Processing Record 30 of Set 12 | chipinge\n",
      "Processing Record 31 of Set 12 | guymon\n",
      "Processing Record 32 of Set 12 | karla\n",
      "Processing Record 33 of Set 12 | okhotsk\n",
      "Processing Record 34 of Set 12 | broken hill\n",
      "Processing Record 35 of Set 12 | dubti\n",
      "Processing Record 36 of Set 12 | porsa\n",
      "Processing Record 37 of Set 12 | nhamunda\n",
      "Processing Record 38 of Set 12 | nenton\n",
      "Processing Record 39 of Set 12 | kathu\n",
      "Processing Record 40 of Set 12 | presidencia roque saenz pena\n",
      "Processing Record 41 of Set 12 | waddan\n",
      "Processing Record 42 of Set 12 | gigmoto\n",
      "Processing Record 43 of Set 12 | tabialan\n",
      "City not found. Skipping...\n",
      "Processing Record 44 of Set 12 | skalistyy\n",
      "City not found. Skipping...\n",
      "Processing Record 45 of Set 12 | beloha\n",
      "Processing Record 46 of Set 12 | itacoatiara\n",
      "Processing Record 47 of Set 12 | bar harbor\n",
      "Processing Record 48 of Set 12 | aquiraz\n",
      "Processing Record 49 of Set 12 | yantal\n",
      "Processing Record 0 of Set 13 | la tuque\n",
      "Processing Record 1 of Set 13 | kushiro\n",
      "Processing Record 2 of Set 13 | kailua\n",
      "Processing Record 3 of Set 13 | ionia\n",
      "Processing Record 4 of Set 13 | svetlaya\n",
      "Processing Record 5 of Set 13 | kondinskoye\n",
      "-----------------------------\n",
      "Data Retrieval Complete      \n",
      "-----------------------------\n"
     ]
    }
   ],
   "source": [
    "# Set the API base URL\n",
    "url = f\"http://api.openweathermap.org/data/2.5/weather?units=Metric&APPID={weather_api_key}\"\n",
    "\n",
    "# Define an empty list to fetch the weather data for each city\n",
    "city_data = []\n",
    "\n",
    "# Print to logger\n",
    "print(\"Beginning Data Retrieval     \")\n",
    "print(\"-----------------------------\")\n",
    "\n",
    "# Create counters\n",
    "record_count = 1\n",
    "set_count = 1\n",
    "\n",
    "# Loop through all the cities in our list to fetch weather data\n",
    "for i, city in enumerate(cities):\n",
    "        \n",
    "    # Group cities in sets of 50 for logging purposes\n",
    "    if (i % 50 == 0 and i >= 50):\n",
    "        set_count += 1\n",
    "        record_count = 0\n",
    "\n",
    "    # Create endpoint URL with each city\n",
    "    city_url = f\"{url}&q={city}\"\n",
    "    \n",
    "    # Log the url, record, and set numbers\n",
    "    print(\"Processing Record %s of Set %s | %s\" % (record_count, set_count, city))\n",
    "\n",
    "    # Add 1 to the record count\n",
    "    record_count += 1\n",
    "\n",
    "    # Run an API request for each of the cities\n",
    "    try:\n",
    "        # Parse the JSON and retrieve data\n",
    "        city_weather = requests.get(city_url).json()\n",
    "\n",
    "        # Parse out latitude, longitude, max temp, humidity, cloudiness, wind speed, country, and date\n",
    "        city_lat = city_weather[\"coord\"][\"lat\"]\n",
    "        city_lng = city_weather[\"coord\"][\"lon\"]\n",
    "        city_max_temp = city_weather[\"main\"][\"temp_max\"]\n",
    "        city_humidity = city_weather[\"main\"][\"humidity\"]\n",
    "        city_clouds = city_weather[\"clouds\"][\"all\"]\n",
    "        city_wind = city_weather[\"wind\"][\"speed\"]\n",
    "        city_country = city_weather[\"sys\"][\"country\"]\n",
    "        city_date = city_weather[\"dt\"]\n",
    "\n",
    "        # Append the City information into city_data list\n",
    "        city_data.append({\"City\": city, \n",
    "                          \"Lat\": city_lat, \n",
    "                          \"Lng\": city_lng, \n",
    "                          \"Max Temp\": city_max_temp,\n",
    "                          \"Humidity\": city_humidity,\n",
    "                          \"Cloudiness\": city_clouds,\n",
    "                          \"Wind Speed\": city_wind,\n",
    "                          \"Country\": city_country,\n",
    "                          \"Date\": city_date})\n",
    "\n",
    "    # If an error is experienced, skip the city\n",
    "    except:\n",
    "        print(\"City not found. Skipping...\")\n",
    "        pass\n",
    "              \n",
    "# Indicate that Data Loading is complete \n",
    "print(\"-----------------------------\")\n",
    "print(\"Data Retrieval Complete      \")\n",
    "print(\"-----------------------------\")"
   ]
  },
  {
   "cell_type": "code",
   "execution_count": 4,
   "metadata": {},
   "outputs": [
    {
     "data": {
      "text/plain": [
       "City          547\n",
       "Lat           547\n",
       "Lng           547\n",
       "Max Temp      547\n",
       "Humidity      547\n",
       "Cloudiness    547\n",
       "Wind Speed    547\n",
       "Country       547\n",
       "Date          547\n",
       "dtype: int64"
      ]
     },
     "execution_count": 4,
     "metadata": {},
     "output_type": "execute_result"
    }
   ],
   "source": [
    "# Convert the cities weather data into a Pandas DataFrame\n",
    "city_data_df = pd.DataFrame(city_data)\n",
    "\n",
    "# Show Record Count\n",
    "city_data_df.count()"
   ]
  },
  {
   "cell_type": "code",
   "execution_count": 5,
   "metadata": {},
   "outputs": [
    {
     "data": {
      "text/html": [
       "<div>\n",
       "<style scoped>\n",
       "    .dataframe tbody tr th:only-of-type {\n",
       "        vertical-align: middle;\n",
       "    }\n",
       "\n",
       "    .dataframe tbody tr th {\n",
       "        vertical-align: top;\n",
       "    }\n",
       "\n",
       "    .dataframe thead th {\n",
       "        text-align: right;\n",
       "    }\n",
       "</style>\n",
       "<table border=\"1\" class=\"dataframe\">\n",
       "  <thead>\n",
       "    <tr style=\"text-align: right;\">\n",
       "      <th></th>\n",
       "      <th>City</th>\n",
       "      <th>Lat</th>\n",
       "      <th>Lng</th>\n",
       "      <th>Max Temp</th>\n",
       "      <th>Humidity</th>\n",
       "      <th>Cloudiness</th>\n",
       "      <th>Wind Speed</th>\n",
       "      <th>Country</th>\n",
       "      <th>Date</th>\n",
       "    </tr>\n",
       "  </thead>\n",
       "  <tbody>\n",
       "    <tr>\n",
       "      <th>0</th>\n",
       "      <td>arraial do cabo</td>\n",
       "      <td>-22.9661</td>\n",
       "      <td>-42.0278</td>\n",
       "      <td>24.92</td>\n",
       "      <td>78</td>\n",
       "      <td>75</td>\n",
       "      <td>5.14</td>\n",
       "      <td>BR</td>\n",
       "      <td>1681336933</td>\n",
       "    </tr>\n",
       "    <tr>\n",
       "      <th>1</th>\n",
       "      <td>praia</td>\n",
       "      <td>14.9215</td>\n",
       "      <td>-23.5087</td>\n",
       "      <td>22.30</td>\n",
       "      <td>73</td>\n",
       "      <td>0</td>\n",
       "      <td>5.14</td>\n",
       "      <td>CV</td>\n",
       "      <td>1681336981</td>\n",
       "    </tr>\n",
       "    <tr>\n",
       "      <th>2</th>\n",
       "      <td>butaritari</td>\n",
       "      <td>3.0707</td>\n",
       "      <td>172.7902</td>\n",
       "      <td>27.42</td>\n",
       "      <td>74</td>\n",
       "      <td>61</td>\n",
       "      <td>2.62</td>\n",
       "      <td>KI</td>\n",
       "      <td>1681337069</td>\n",
       "    </tr>\n",
       "    <tr>\n",
       "      <th>3</th>\n",
       "      <td>bambous virieux</td>\n",
       "      <td>-20.3428</td>\n",
       "      <td>57.7575</td>\n",
       "      <td>24.14</td>\n",
       "      <td>94</td>\n",
       "      <td>20</td>\n",
       "      <td>1.54</td>\n",
       "      <td>MU</td>\n",
       "      <td>1681337070</td>\n",
       "    </tr>\n",
       "    <tr>\n",
       "      <th>4</th>\n",
       "      <td>aras</td>\n",
       "      <td>42.5617</td>\n",
       "      <td>-2.3560</td>\n",
       "      <td>5.40</td>\n",
       "      <td>87</td>\n",
       "      <td>100</td>\n",
       "      <td>3.09</td>\n",
       "      <td>ES</td>\n",
       "      <td>1681337070</td>\n",
       "    </tr>\n",
       "  </tbody>\n",
       "</table>\n",
       "</div>"
      ],
      "text/plain": [
       "              City      Lat       Lng  Max Temp  Humidity  Cloudiness  \\\n",
       "0  arraial do cabo -22.9661  -42.0278     24.92        78          75   \n",
       "1            praia  14.9215  -23.5087     22.30        73           0   \n",
       "2       butaritari   3.0707  172.7902     27.42        74          61   \n",
       "3  bambous virieux -20.3428   57.7575     24.14        94          20   \n",
       "4             aras  42.5617   -2.3560      5.40        87         100   \n",
       "\n",
       "   Wind Speed Country        Date  \n",
       "0        5.14      BR  1681336933  \n",
       "1        5.14      CV  1681336981  \n",
       "2        2.62      KI  1681337069  \n",
       "3        1.54      MU  1681337070  \n",
       "4        3.09      ES  1681337070  "
      ]
     },
     "execution_count": 5,
     "metadata": {},
     "output_type": "execute_result"
    }
   ],
   "source": [
    "# Display sample data\n",
    "city_data_df.head()"
   ]
  },
  {
   "cell_type": "code",
   "execution_count": 6,
   "metadata": {},
   "outputs": [],
   "source": [
    "# Export the City_Data into a csv\n",
    "city_data_df.to_csv(\"../Output_Data/cities.csv\", index_label=\"City_ID\")"
   ]
  },
  {
   "cell_type": "code",
   "execution_count": 7,
   "metadata": {},
   "outputs": [
    {
     "data": {
      "text/html": [
       "<div>\n",
       "<style scoped>\n",
       "    .dataframe tbody tr th:only-of-type {\n",
       "        vertical-align: middle;\n",
       "    }\n",
       "\n",
       "    .dataframe tbody tr th {\n",
       "        vertical-align: top;\n",
       "    }\n",
       "\n",
       "    .dataframe thead th {\n",
       "        text-align: right;\n",
       "    }\n",
       "</style>\n",
       "<table border=\"1\" class=\"dataframe\">\n",
       "  <thead>\n",
       "    <tr style=\"text-align: right;\">\n",
       "      <th></th>\n",
       "      <th>City</th>\n",
       "      <th>Lat</th>\n",
       "      <th>Lng</th>\n",
       "      <th>Max Temp</th>\n",
       "      <th>Humidity</th>\n",
       "      <th>Cloudiness</th>\n",
       "      <th>Wind Speed</th>\n",
       "      <th>Country</th>\n",
       "      <th>Date</th>\n",
       "    </tr>\n",
       "    <tr>\n",
       "      <th>City_ID</th>\n",
       "      <th></th>\n",
       "      <th></th>\n",
       "      <th></th>\n",
       "      <th></th>\n",
       "      <th></th>\n",
       "      <th></th>\n",
       "      <th></th>\n",
       "      <th></th>\n",
       "      <th></th>\n",
       "    </tr>\n",
       "  </thead>\n",
       "  <tbody>\n",
       "    <tr>\n",
       "      <th>0</th>\n",
       "      <td>arraial do cabo</td>\n",
       "      <td>-22.9661</td>\n",
       "      <td>-42.0278</td>\n",
       "      <td>24.92</td>\n",
       "      <td>78</td>\n",
       "      <td>75</td>\n",
       "      <td>5.14</td>\n",
       "      <td>BR</td>\n",
       "      <td>1681336933</td>\n",
       "    </tr>\n",
       "    <tr>\n",
       "      <th>1</th>\n",
       "      <td>praia</td>\n",
       "      <td>14.9215</td>\n",
       "      <td>-23.5087</td>\n",
       "      <td>22.30</td>\n",
       "      <td>73</td>\n",
       "      <td>0</td>\n",
       "      <td>5.14</td>\n",
       "      <td>CV</td>\n",
       "      <td>1681336981</td>\n",
       "    </tr>\n",
       "    <tr>\n",
       "      <th>2</th>\n",
       "      <td>butaritari</td>\n",
       "      <td>3.0707</td>\n",
       "      <td>172.7902</td>\n",
       "      <td>27.42</td>\n",
       "      <td>74</td>\n",
       "      <td>61</td>\n",
       "      <td>2.62</td>\n",
       "      <td>KI</td>\n",
       "      <td>1681337069</td>\n",
       "    </tr>\n",
       "    <tr>\n",
       "      <th>3</th>\n",
       "      <td>bambous virieux</td>\n",
       "      <td>-20.3428</td>\n",
       "      <td>57.7575</td>\n",
       "      <td>24.14</td>\n",
       "      <td>94</td>\n",
       "      <td>20</td>\n",
       "      <td>1.54</td>\n",
       "      <td>MU</td>\n",
       "      <td>1681337070</td>\n",
       "    </tr>\n",
       "    <tr>\n",
       "      <th>4</th>\n",
       "      <td>aras</td>\n",
       "      <td>42.5617</td>\n",
       "      <td>-2.3560</td>\n",
       "      <td>5.40</td>\n",
       "      <td>87</td>\n",
       "      <td>100</td>\n",
       "      <td>3.09</td>\n",
       "      <td>ES</td>\n",
       "      <td>1681337070</td>\n",
       "    </tr>\n",
       "  </tbody>\n",
       "</table>\n",
       "</div>"
      ],
      "text/plain": [
       "                    City      Lat       Lng  Max Temp  Humidity  Cloudiness  \\\n",
       "City_ID                                                                       \n",
       "0        arraial do cabo -22.9661  -42.0278     24.92        78          75   \n",
       "1                  praia  14.9215  -23.5087     22.30        73           0   \n",
       "2             butaritari   3.0707  172.7902     27.42        74          61   \n",
       "3        bambous virieux -20.3428   57.7575     24.14        94          20   \n",
       "4                   aras  42.5617   -2.3560      5.40        87         100   \n",
       "\n",
       "         Wind Speed Country        Date  \n",
       "City_ID                                  \n",
       "0              5.14      BR  1681336933  \n",
       "1              5.14      CV  1681336981  \n",
       "2              2.62      KI  1681337069  \n",
       "3              1.54      MU  1681337070  \n",
       "4              3.09      ES  1681337070  "
      ]
     },
     "execution_count": 7,
     "metadata": {},
     "output_type": "execute_result"
    }
   ],
   "source": [
    "# Read saved data\n",
    "city_data_df = pd.read_csv(\"../Output_Data/cities.csv\", index_col=\"City_ID\")\n",
    "\n",
    "# Display sample data\n",
    "city_data_df.head()"
   ]
  },
  {
   "cell_type": "code",
   "execution_count": 8,
   "metadata": {},
   "outputs": [],
   "source": [
    "# Relevant Data for Scatter Plots\n",
    "lats = city_data_df[\"Lat\"]\n",
    "max_temps = city_data_df[\"Max Temp\"]\n",
    "humidity = city_data_df[\"Humidity\"]\n",
    "cloudiness = city_data_df[\"Cloudiness\"]\n",
    "wind_speeds = city_data_df[\"Wind Speed\"]"
   ]
  },
  {
   "cell_type": "markdown",
   "metadata": {},
   "source": [
    "### Create the Scatter Plots Requested\n",
    "\n",
    "#### Latitude Vs. Temperature"
   ]
  },
  {
   "cell_type": "code",
   "execution_count": 9,
   "metadata": {
    "tags": []
   },
   "outputs": [
    {
     "data": {
      "image/png": "[encoded data removed]",
      "text/plain": [
       "<Figure size 432x288 with 1 Axes>"
      ]
     },
     "metadata": {
      "needs_background": "light"
     },
     "output_type": "display_data"
    }
   ],
   "source": [
    "# Build scatter plot for latitude vs. temperature\n",
    "plt.scatter(lats, max_temps, color=\"blue\", linewidth=1, marker=\"o\", edgecolor=\"black\")\n",
    "\n",
    "# Incorporate the other graph properties\n",
    "plt.title(f\"City Max Latitude vs. Temperature ({time.strftime('%x')})\")\n",
    "plt.xlabel(\"Latitude\")\n",
    "plt.ylabel(\"Max Temperature (C)\")\n",
    "plt.grid(True)\n",
    "\n",
    "# Save the figure\n",
    "plt.savefig(\"../Output_Data/Fig1.png\")\n",
    "\n",
    "# Show plot\n",
    "plt.show()"
   ]
  },
  {
   "cell_type": "markdown",
   "metadata": {},
   "source": [
    "#### Latitude Vs. Humidity"
   ]
  },
  {
   "cell_type": "code",
   "execution_count": 10,
   "metadata": {},
   "outputs": [
    {
     "data": {
      "image/png": "[encoded data removed]",
      "text/plain": [
       "<Figure size 432x288 with 1 Axes>"
      ]
     },
     "metadata": {
      "needs_background": "light"
     },
     "output_type": "display_data"
    }
   ],
   "source": [
    "# Build the scatter plots for latitude vs. humidity\n",
    "plt.scatter(lats, humidity, color=\"blue\", edgecolor=\"black\", marker=\"o\", linewidth=1)\n",
    "\n",
    "# Incorporate the other graph properties\n",
    "plt.title(f\"City Latitude vs. Humidity ({time.strftime('%x')})\")\n",
    "plt.xlabel(\"Latitude\")\n",
    "plt.ylabel(\"Humidity (%)\")\n",
    "plt.grid(True)\n",
    "\n",
    "# Save the figure\n",
    "plt.savefig(\"../Output_Data/Fig2.png\")\n",
    "\n",
    "# Show plot\n",
    "plt.show()"
   ]
  },
  {
   "cell_type": "markdown",
   "metadata": {},
   "source": [
    "#### Latitude Vs. Cloudiness"
   ]
  },
  {
   "cell_type": "code",
   "execution_count": 11,
   "metadata": {},
   "outputs": [
    {
     "data": {
      "image/png": "[encoded data removed]",
      "text/plain": [
       "<Figure size 432x288 with 1 Axes>"
      ]
     },
     "metadata": {
      "needs_background": "light"
     },
     "output_type": "display_data"
    }
   ],
   "source": [
    "# Build the scatter plots for latitude vs. cloudiness\n",
    "plt.scatter(lats, cloudiness, color=\"blue\", edgecolor=\"black\", linewidth=1, marker=\"o\")\n",
    "\n",
    "# Incorporate the other graph properties\n",
    "plt.title(f\"City Latitude vs. Cloudiness ({time.strftime('%x')})\")\n",
    "plt.xlabel(\"Latitude\")\n",
    "plt.ylabel(\"Cloudiness (%)\")\n",
    "plt.grid(True)\n",
    "\n",
    "# Save the figure\n",
    "plt.savefig(\"../Output_Data/Fig3.png\")\n",
    "\n",
    "# Show plot\n",
    "plt.show()"
   ]
  },
  {
   "cell_type": "markdown",
   "metadata": {},
   "source": [
    "#### Latitude vs. Wind Speed Plot"
   ]
  },
  {
   "cell_type": "code",
   "execution_count": 12,
   "metadata": {},
   "outputs": [
    {
     "data": {
      "image/png": "[encoded data removed]",
      "text/plain": [
       "<Figure size 432x288 with 1 Axes>"
      ]
     },
     "metadata": {
      "needs_background": "light"
     },
     "output_type": "display_data"
    }
   ],
   "source": [
    "# Build the scatter plots for latitude vs. wind speed\n",
    "plt.scatter(lats, wind_speeds, color=\"blue\", edgecolor=\"black\", linewidth=1, marker=\"o\")\n",
    "\n",
    "# Incorporate the other graph properties\n",
    "plt.title(f\"City Latitude vs. Wind Speed ({time.strftime('%x')})\")\n",
    "plt.xlabel(\"Latitude\")\n",
    "plt.ylabel(\"Wind Speed (m/s)\")\n",
    "plt.grid(True)\n",
    "\n",
    "# Save the figure\n",
    "plt.savefig(\"../Output_Data/Fig4.png\")\n",
    "\n",
    "# Show plot\n",
    "plt.show()"
   ]
  },
  {
   "cell_type": "markdown",
   "metadata": {},
   "source": [
    "---\n",
    "\n",
    "## Requirement 2: Compute Linear Regression for Each Relationship\n"
   ]
  },
  {
   "cell_type": "code",
   "execution_count": 59,
   "metadata": {},
   "outputs": [],
   "source": [
    "# Define a function to create Linear Regression plots\n",
    "def plot_linear_regression(x_values, y_values, title, text_coordinates):\n",
    "    \n",
    "    # Run regresson on southern hemisphere\n",
    "    (slope, intercept, rvalue, pvalue, stderr) = linregress(x_values, y_values)\n",
    "    regress_values = x_values * slope + intercept\n",
    "    line_eq = \"y = \" + str(round(slope,2)) + \"x + \" + str(round(intercept,2))\n",
    "# Plot\n",
    "    plt.scatter(x_values,y_values)\n",
    "    plt.plot(x_values,regress_values,\"r-\")\n",
    "    plt.annotate(line_eq, (0,30),text_coordinates,fontsize=15,color=\"red\")\n",
    "    plt.xlabel('Latitude')\n",
    "    plt.ylabel(title)\n",
    "    print(f\"The r-value is: {rvalue**2}\")\n",
    "    plt.show()"
   ]
  },
  {
   "cell_type": "code",
   "execution_count": 60,
   "metadata": {},
   "outputs": [
    {
     "data": {
      "text/html": [
       "<div>\n",
       "<style scoped>\n",
       "    .dataframe tbody tr th:only-of-type {\n",
       "        vertical-align: middle;\n",
       "    }\n",
       "\n",
       "    .dataframe tbody tr th {\n",
       "        vertical-align: top;\n",
       "    }\n",
       "\n",
       "    .dataframe thead th {\n",
       "        text-align: right;\n",
       "    }\n",
       "</style>\n",
       "<table border=\"1\" class=\"dataframe\">\n",
       "  <thead>\n",
       "    <tr style=\"text-align: right;\">\n",
       "      <th></th>\n",
       "      <th>City</th>\n",
       "      <th>Lat</th>\n",
       "      <th>Lng</th>\n",
       "      <th>Max Temp</th>\n",
       "      <th>Humidity</th>\n",
       "      <th>Cloudiness</th>\n",
       "      <th>Wind Speed</th>\n",
       "      <th>Country</th>\n",
       "      <th>Date</th>\n",
       "    </tr>\n",
       "    <tr>\n",
       "      <th>City_ID</th>\n",
       "      <th></th>\n",
       "      <th></th>\n",
       "      <th></th>\n",
       "      <th></th>\n",
       "      <th></th>\n",
       "      <th></th>\n",
       "      <th></th>\n",
       "      <th></th>\n",
       "      <th></th>\n",
       "    </tr>\n",
       "  </thead>\n",
       "  <tbody>\n",
       "    <tr>\n",
       "      <th>1</th>\n",
       "      <td>praia</td>\n",
       "      <td>14.9215</td>\n",
       "      <td>-23.5087</td>\n",
       "      <td>22.30</td>\n",
       "      <td>73</td>\n",
       "      <td>0</td>\n",
       "      <td>5.14</td>\n",
       "      <td>CV</td>\n",
       "      <td>1681336981</td>\n",
       "    </tr>\n",
       "    <tr>\n",
       "      <th>2</th>\n",
       "      <td>butaritari</td>\n",
       "      <td>3.0707</td>\n",
       "      <td>172.7902</td>\n",
       "      <td>27.42</td>\n",
       "      <td>74</td>\n",
       "      <td>61</td>\n",
       "      <td>2.62</td>\n",
       "      <td>KI</td>\n",
       "      <td>1681337069</td>\n",
       "    </tr>\n",
       "    <tr>\n",
       "      <th>4</th>\n",
       "      <td>aras</td>\n",
       "      <td>42.5617</td>\n",
       "      <td>-2.3560</td>\n",
       "      <td>5.40</td>\n",
       "      <td>87</td>\n",
       "      <td>100</td>\n",
       "      <td>3.09</td>\n",
       "      <td>ES</td>\n",
       "      <td>1681337070</td>\n",
       "    </tr>\n",
       "    <tr>\n",
       "      <th>5</th>\n",
       "      <td>kapaa</td>\n",
       "      <td>22.0752</td>\n",
       "      <td>-159.3190</td>\n",
       "      <td>26.99</td>\n",
       "      <td>76</td>\n",
       "      <td>75</td>\n",
       "      <td>6.69</td>\n",
       "      <td>US</td>\n",
       "      <td>1681337070</td>\n",
       "    </tr>\n",
       "    <tr>\n",
       "      <th>7</th>\n",
       "      <td>cravo norte</td>\n",
       "      <td>6.3017</td>\n",
       "      <td>-70.2041</td>\n",
       "      <td>32.20</td>\n",
       "      <td>48</td>\n",
       "      <td>100</td>\n",
       "      <td>1.85</td>\n",
       "      <td>CO</td>\n",
       "      <td>1681337070</td>\n",
       "    </tr>\n",
       "  </tbody>\n",
       "</table>\n",
       "</div>"
      ],
      "text/plain": [
       "                City      Lat       Lng  Max Temp  Humidity  Cloudiness  \\\n",
       "City_ID                                                                   \n",
       "1              praia  14.9215  -23.5087     22.30        73           0   \n",
       "2         butaritari   3.0707  172.7902     27.42        74          61   \n",
       "4               aras  42.5617   -2.3560      5.40        87         100   \n",
       "5              kapaa  22.0752 -159.3190     26.99        76          75   \n",
       "7        cravo norte   6.3017  -70.2041     32.20        48         100   \n",
       "\n",
       "         Wind Speed Country        Date  \n",
       "City_ID                                  \n",
       "1              5.14      CV  1681336981  \n",
       "2              2.62      KI  1681337069  \n",
       "4              3.09      ES  1681337070  \n",
       "5              6.69      US  1681337070  \n",
       "7              1.85      CO  1681337070  "
      ]
     },
     "execution_count": 60,
     "metadata": {},
     "output_type": "execute_result"
    }
   ],
   "source": [
    "# Create a DataFrame with the Northern Hemisphere data (Latitude >= 0)\n",
    "northern_hemi_df = city_data_df.loc[city_data_df[\"Lat\"]>=0]\n",
    "\n",
    "# Display sample data\n",
    "northern_hemi_df.head()"
   ]
  },
  {
   "cell_type": "code",
   "execution_count": 61,
   "metadata": {},
   "outputs": [
    {
     "data": {
      "text/html": [
       "<div>\n",
       "<style scoped>\n",
       "    .dataframe tbody tr th:only-of-type {\n",
       "        vertical-align: middle;\n",
       "    }\n",
       "\n",
       "    .dataframe tbody tr th {\n",
       "        vertical-align: top;\n",
       "    }\n",
       "\n",
       "    .dataframe thead th {\n",
       "        text-align: right;\n",
       "    }\n",
       "</style>\n",
       "<table border=\"1\" class=\"dataframe\">\n",
       "  <thead>\n",
       "    <tr style=\"text-align: right;\">\n",
       "      <th></th>\n",
       "      <th>City</th>\n",
       "      <th>Lat</th>\n",
       "      <th>Lng</th>\n",
       "      <th>Max Temp</th>\n",
       "      <th>Humidity</th>\n",
       "      <th>Cloudiness</th>\n",
       "      <th>Wind Speed</th>\n",
       "      <th>Country</th>\n",
       "      <th>Date</th>\n",
       "    </tr>\n",
       "    <tr>\n",
       "      <th>City_ID</th>\n",
       "      <th></th>\n",
       "      <th></th>\n",
       "      <th></th>\n",
       "      <th></th>\n",
       "      <th></th>\n",
       "      <th></th>\n",
       "      <th></th>\n",
       "      <th></th>\n",
       "      <th></th>\n",
       "    </tr>\n",
       "  </thead>\n",
       "  <tbody>\n",
       "    <tr>\n",
       "      <th>0</th>\n",
       "      <td>arraial do cabo</td>\n",
       "      <td>-22.9661</td>\n",
       "      <td>-42.0278</td>\n",
       "      <td>24.92</td>\n",
       "      <td>78</td>\n",
       "      <td>75</td>\n",
       "      <td>5.14</td>\n",
       "      <td>BR</td>\n",
       "      <td>1681336933</td>\n",
       "    </tr>\n",
       "    <tr>\n",
       "      <th>3</th>\n",
       "      <td>bambous virieux</td>\n",
       "      <td>-20.3428</td>\n",
       "      <td>57.7575</td>\n",
       "      <td>24.14</td>\n",
       "      <td>94</td>\n",
       "      <td>20</td>\n",
       "      <td>1.54</td>\n",
       "      <td>MU</td>\n",
       "      <td>1681337070</td>\n",
       "    </tr>\n",
       "    <tr>\n",
       "      <th>6</th>\n",
       "      <td>kruisfontein</td>\n",
       "      <td>-34.0033</td>\n",
       "      <td>24.7314</td>\n",
       "      <td>15.75</td>\n",
       "      <td>47</td>\n",
       "      <td>100</td>\n",
       "      <td>2.76</td>\n",
       "      <td>ZA</td>\n",
       "      <td>1681337070</td>\n",
       "    </tr>\n",
       "    <tr>\n",
       "      <th>9</th>\n",
       "      <td>punta arenas</td>\n",
       "      <td>-53.1500</td>\n",
       "      <td>-70.9167</td>\n",
       "      <td>6.06</td>\n",
       "      <td>65</td>\n",
       "      <td>0</td>\n",
       "      <td>2.06</td>\n",
       "      <td>CL</td>\n",
       "      <td>1681336940</td>\n",
       "    </tr>\n",
       "    <tr>\n",
       "      <th>11</th>\n",
       "      <td>hobart</td>\n",
       "      <td>-42.8794</td>\n",
       "      <td>147.3294</td>\n",
       "      <td>13.48</td>\n",
       "      <td>97</td>\n",
       "      <td>75</td>\n",
       "      <td>0.00</td>\n",
       "      <td>AU</td>\n",
       "      <td>1681337071</td>\n",
       "    </tr>\n",
       "  </tbody>\n",
       "</table>\n",
       "</div>"
      ],
      "text/plain": [
       "                    City      Lat       Lng  Max Temp  Humidity  Cloudiness  \\\n",
       "City_ID                                                                       \n",
       "0        arraial do cabo -22.9661  -42.0278     24.92        78          75   \n",
       "3        bambous virieux -20.3428   57.7575     24.14        94          20   \n",
       "6           kruisfontein -34.0033   24.7314     15.75        47         100   \n",
       "9           punta arenas -53.1500  -70.9167      6.06        65           0   \n",
       "11                hobart -42.8794  147.3294     13.48        97          75   \n",
       "\n",
       "         Wind Speed Country        Date  \n",
       "City_ID                                  \n",
       "0              5.14      BR  1681336933  \n",
       "3              1.54      MU  1681337070  \n",
       "6              2.76      ZA  1681337070  \n",
       "9              2.06      CL  1681336940  \n",
       "11             0.00      AU  1681337071  "
      ]
     },
     "execution_count": 61,
     "metadata": {},
     "output_type": "execute_result"
    }
   ],
   "source": [
    "# Create a DataFrame with the Southern Hemisphere data (Latitude < 0)\n",
    "southern_hemi_df = city_data_df.loc[city_data_df[\"Lat\"]<0]\n",
    "\n",
    "# Display sample data\n",
    "southern_hemi_df.head()"
   ]
  },
  {
   "cell_type": "markdown",
   "metadata": {},
   "source": [
    "###  Temperature vs. Latitude Linear Regression Plot"
   ]
  },
  {
   "cell_type": "code",
   "execution_count": 62,
   "metadata": {},
   "outputs": [
    {
     "name": "stdout",
     "output_type": "stream",
     "text": [
      "The r-value is: 0.7260100219165191\n"
     ]
    },
    {
     "data": {
      "image/png": "[encoded data removed]",
      "text/plain": [
       "<Figure size 432x288 with 1 Axes>"
      ]
     },
     "metadata": {
      "needs_background": "light"
     },
     "output_type": "display_data"
    }
   ],
   "source": [
    "# Linear regression on Northern Hemisphere\n",
    "x_values = northern_hemi_df[\"Lat\"]\n",
    "y_values = northern_hemi_df[\"Max Temp\"]\n",
    "plot_linear_regression(x_values, y_values, 'Max Temp',(6,30))"
   ]
  },
  {
   "cell_type": "code",
   "execution_count": 63,
   "metadata": {},
   "outputs": [
    {
     "name": "stdout",
     "output_type": "stream",
     "text": [
      "The r-value is: 0.5304621639150713\n"
     ]
    },
    {
     "data": {
      "image/png": "[encoded data removed]",
      "text/plain": [
       "<Figure size 432x288 with 1 Axes>"
      ]
     },
     "metadata": {
      "needs_background": "light"
     },
     "output_type": "display_data"
    }
   ],
   "source": [
    "# Linear regression on Southern Hemisphere\n",
    "x_values = southern_hemi_df[\"Lat\"]\n",
    "y_values = southern_hemi_df[\"Max Temp\"]\n",
    "plot_linear_regression(x_values, y_values, 'Max Temp',(6,30))"
   ]
  },
  {
   "cell_type": "markdown",
   "metadata": {},
   "source": [
    "**Discussion about the linear relationship:** YOUR RESPONSE HERE"
   ]
  },
  {
   "cell_type": "code",
   "execution_count": 24,
   "metadata": {},
   "outputs": [],
   "source": [
    "# My Reponse"
   ]
  },
  {
   "cell_type": "markdown",
   "metadata": {},
   "source": [
    "### Humidity vs. Latitude Linear Regression Plot"
   ]
  },
  {
   "cell_type": "code",
   "execution_count": 64,
   "metadata": {},
   "outputs": [
    {
     "name": "stdout",
     "output_type": "stream",
     "text": [
      "The r-value is: 0.09336440680687033\n"
     ]
    },
    {
     "data": {
      "image/png": "[encoded data removed]",
      "text/plain": [
       "<Figure size 432x288 with 1 Axes>"
      ]
     },
     "metadata": {
      "needs_background": "light"
     },
     "output_type": "display_data"
    }
   ],
   "source": [
    "# Northern Hemisphere\n",
    "x_values = northern_hemi_df[\"Lat\"]\n",
    "y_values = northern_hemi_df[\"Humidity\"]\n",
    "plot_linear_regression(x_values, y_values, 'Humidity',(6,30))"
   ]
  },
  {
   "cell_type": "code",
   "execution_count": 65,
   "metadata": {},
   "outputs": [
    {
     "name": "stdout",
     "output_type": "stream",
     "text": [
      "The r-value is: 0.0784236825899952\n"
     ]
    },
    {
     "data": {
      "image/png": "[encoded data removed]",
      "text/plain": [
       "<Figure size 432x288 with 1 Axes>"
      ]
     },
     "metadata": {
      "needs_background": "light"
     },
     "output_type": "display_data"
    }
   ],
   "source": [
    "# Southern Hemisphere\n",
    "x_values = southern_hemi_df[\"Lat\"]\n",
    "y_values = southern_hemi_df[\"Humidity\"]\n",
    "plot_linear_regression(x_values, y_values, 'Humidity',(6,30))"
   ]
  },
  {
   "cell_type": "markdown",
   "metadata": {},
   "source": [
    "**Discussion about the linear relationship:** YOUR RESPONSE HERE"
   ]
  },
  {
   "cell_type": "code",
   "execution_count": 56,
   "metadata": {},
   "outputs": [],
   "source": [
    "#My Response"
   ]
  },
  {
   "cell_type": "markdown",
   "metadata": {},
   "source": [
    "### Cloudiness vs. Latitude Linear Regression Plot"
   ]
  },
  {
   "cell_type": "code",
   "execution_count": 66,
   "metadata": {},
   "outputs": [
    {
     "name": "stdout",
     "output_type": "stream",
     "text": [
      "The r-value is: 0.011366604515367683\n"
     ]
    },
    {
     "data": {
      "image/png": "[encoded data removed]",
      "text/plain": [
       "<Figure size 432x288 with 1 Axes>"
      ]
     },
     "metadata": {
      "needs_background": "light"
     },
     "output_type": "display_data"
    }
   ],
   "source": [
    "# Northern Hemisphere\n",
    "x_values = northern_hemi_df[\"Lat\"]\n",
    "y_values = northern_hemi_df[\"Cloudiness\"]\n",
    "plot_linear_regression(x_values, y_values, 'Cloudiness',(6,30))"
   ]
  },
  {
   "cell_type": "code",
   "execution_count": 67,
   "metadata": {},
   "outputs": [
    {
     "name": "stdout",
     "output_type": "stream",
     "text": [
      "The r-value is: 0.04065458095069605\n"
     ]
    },
    {
     "data": {
      "image/png": "[encoded data removed]",
      "text/plain": [
       "<Figure size 432x288 with 1 Axes>"
      ]
     },
     "metadata": {
      "needs_background": "light"
     },
     "output_type": "display_data"
    }
   ],
   "source": [
    "# Southern Hemisphere\n",
    "x_values = southern_hemi_df[\"Lat\"]\n",
    "y_values = southern_hemi_df[\"Cloudiness\"]\n",
    "plot_linear_regression(x_values, y_values, 'Cloudiness',(6,30))"
   ]
  },
  {
   "cell_type": "markdown",
   "metadata": {},
   "source": [
    "**Discussion about the linear relationship:** YOUR RESPONSE HERE"
   ]
  },
  {
   "cell_type": "code",
   "execution_count": 30,
   "metadata": {},
   "outputs": [],
   "source": [
    "# My Response"
   ]
  },
  {
   "cell_type": "markdown",
   "metadata": {},
   "source": [
    "### Wind Speed vs. Latitude Linear Regression Plot"
   ]
  },
  {
   "cell_type": "code",
   "execution_count": 72,
   "metadata": {},
   "outputs": [
    {
     "name": "stdout",
     "output_type": "stream",
     "text": [
      "The r-value is: 0.008212422538073754\n"
     ]
    },
    {
     "data": {
      "image/png": "[encoded data removed]",
      "text/plain": [
       "<Figure size 432x288 with 1 Axes>"
      ]
     },
     "metadata": {
      "needs_background": "light"
     },
     "output_type": "display_data"
    }
   ],
   "source": [
    "# Northern Hemisphere\n",
    "x_values = northern_hemi_df[\"Lat\"]\n",
    "y_values = northern_hemi_df[\"Wind Speed\"]\n",
    "plot_linear_regression(x_values, y_values, 'Wind Speed',(20,30))"
   ]
  },
  {
   "cell_type": "code",
   "execution_count": 73,
   "metadata": {},
   "outputs": [
    {
     "name": "stdout",
     "output_type": "stream",
     "text": [
      "The r-value is: 0.07898776574932638\n"
     ]
    },
    {
     "data": {
      "image/png": "[encoded data removed]",
      "text/plain": [
       "<Figure size 432x288 with 1 Axes>"
      ]
     },
     "metadata": {
      "needs_background": "light"
     },
     "output_type": "display_data"
    }
   ],
   "source": [
    "# Southern Hemisphere\n",
    "x_values = southern_hemi_df[\"Lat\"]\n",
    "y_values = southern_hemi_df[\"Wind Speed\"]\n",
    "plot_linear_regression(x_values, y_values, 'Wind Speed',(20,30))"
   ]
  },
  {
   "cell_type": "markdown",
   "metadata": {},
   "source": [
    "**Discussion about the linear relationship:** YOUR RESPONSE HERE"
   ]
  },
  {
   "cell_type": "code",
   "execution_count": 46,
   "metadata": {},
   "outputs": [],
   "source": [
    "# My Reponse"
   ]
  },
  {
   "cell_type": "code",
   "execution_count": null,
   "metadata": {},
   "outputs": [],
   "source": []
  }
 ],
 "metadata": {
  "anaconda-cloud": {},
  "kernel_info": {
   "name": "python3"
  },
  "kernelspec": {
   "display_name": "Python [conda env:PythonData] *",
   "language": "python",
   "name": "conda-env-PythonData-py"
  },
  "language_info": {
   "codemirror_mode": {
    "name": "ipython",
    "version": 3
   },
   "file_extension": ".py",
   "mimetype": "text/x-python",
   "name": "python",
   "nbconvert_exporter": "python",
   "pygments_lexer": "ipython3",
   "version": "3.7.7"
  },
  "latex_envs": {
   "LaTeX_envs_menu_present": true,
   "autoclose": false,
   "autocomplete": true,
   "bibliofile": "biblio.bib",
   "cite_by": "apalike",
   "current_citInitial": 1,
   "eqLabelWithNumbers": true,
   "eqNumInitial": 1,
   "hotkeys": {
    "equation": "Ctrl-E",
    "itemize": "Ctrl-I"
   },
   "labels_anchors": false,
   "latex_user_defs": false,
   "report_style_numbering": false,
   "user_envs_cfg": false
  },
  "nteract": {
   "version": "0.12.3"
  }
 },
 "nbformat": 4,
 "nbformat_minor": 4
}
